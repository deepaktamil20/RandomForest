{
  "nbformat": 4,
  "nbformat_minor": 0,
  "metadata": {
    "colab": {
      "name": "11-05-2022 Random Forest",
      "provenance": []
    },
    "kernelspec": {
      "name": "python3",
      "display_name": "Python 3"
    },
    "language_info": {
      "name": "python"
    }
  },
  "cells": [
    {
      "cell_type": "code",
      "execution_count": 3,
      "metadata": {
        "colab": {
          "base_uri": "https://localhost:8080/"
        },
        "id": "Y7M5nQ-5OWH4",
        "outputId": "330d2e50-a17f-40e4-9a9a-d2952d611083"
      },
      "outputs": [
        {
          "output_type": "stream",
          "name": "stdout",
          "text": [
            "Drive already mounted at /content/drive; to attempt to forcibly remount, call drive.mount(\"/content/drive\", force_remount=True).\n"
          ]
        }
      ],
      "source": [
        "from google.colab import drive\n",
        "drive.mount(\"/content/drive\")"
      ]
    },
    {
      "cell_type": "code",
      "source": [
        "import pandas as pd\n",
        "df=pd.read_csv(\"/content/drive/MyDrive/0.MKCE/Datasets/Social_Network_Ads.csv\")"
      ],
      "metadata": {
        "id": "jNEFnAp-OwNT"
      },
      "execution_count": 8,
      "outputs": []
    },
    {
      "cell_type": "code",
      "source": [
        "print(df)"
      ],
      "metadata": {
        "colab": {
          "base_uri": "https://localhost:8080/"
        },
        "id": "Yfd6p1qYPHG_",
        "outputId": "fc8f3fcd-1c59-42f5-e0ee-bc4ac4b42195"
      },
      "execution_count": 10,
      "outputs": [
        {
          "output_type": "stream",
          "name": "stdout",
          "text": [
            "      User ID  Gender   Age  EstimatedSalary  Purchased\n",
            "0    15624510    Male  19.0          19000.0          0\n",
            "1    15810944    Male  35.0          20000.0          0\n",
            "2    15668575  Female  26.0          43000.0          0\n",
            "3    15603246  Female  27.0          57000.0          0\n",
            "4    15804002    Male  19.0          76000.0          0\n",
            "..        ...     ...   ...              ...        ...\n",
            "395  15691863  Female  46.0          41000.0          1\n",
            "396  15706071    Male  51.0          23000.0          1\n",
            "397  15654296  Female  50.0          20000.0          1\n",
            "398  15755018    Male  36.0          33000.0          0\n",
            "399  15594041  Female  49.0          36000.0          1\n",
            "\n",
            "[400 rows x 5 columns]\n"
          ]
        }
      ]
    },
    {
      "cell_type": "code",
      "source": [
        "df=pd.get_dummies(df)"
      ],
      "metadata": {
        "id": "axaTq-ehPNoj"
      },
      "execution_count": 13,
      "outputs": []
    },
    {
      "cell_type": "code",
      "source": [
        "x=df.drop(['Purchased'], axis=1)"
      ],
      "metadata": {
        "id": "fVT2DKkZPU-Z"
      },
      "execution_count": 15,
      "outputs": []
    },
    {
      "cell_type": "code",
      "source": [
        "y=df['Purchased'].values"
      ],
      "metadata": {
        "id": "KaH4xlOtPb9b"
      },
      "execution_count": 16,
      "outputs": []
    },
    {
      "cell_type": "code",
      "source": [
        "from sklearn.model_selection import train_test_split\n",
        "x_train, x_test, y_train, y_test = train_test_split(x,y, test_size = 0.25,random_state=0)"
      ],
      "metadata": {
        "id": "TY20YSUdPjuY"
      },
      "execution_count": 18,
      "outputs": []
    },
    {
      "cell_type": "code",
      "source": [
        "from sklearn.preprocessing import StandardScaler\n",
        "sc=StandardScaler()\n",
        "x_train=sc.fit_transform(x_train)\n",
        "x_test=sc.transform(x_test)"
      ],
      "metadata": {
        "id": "LM6BhC49P7f8"
      },
      "execution_count": 24,
      "outputs": []
    },
    {
      "cell_type": "code",
      "source": [
        "from sklearn.ensemble import RandomForestClassifier\n",
        "classifier=RandomForestClassifier(n_estimators=10, criterion='entropy', random_state=0)\n",
        "classifier.fit(x_train, y_train)"
      ],
      "metadata": {
        "colab": {
          "base_uri": "https://localhost:8080/"
        },
        "id": "ZYNlg6VyQm8L",
        "outputId": "ad7500a9-5f75-4b34-e0f5-895ce6289e67"
      },
      "execution_count": 29,
      "outputs": [
        {
          "output_type": "execute_result",
          "data": {
            "text/plain": [
              "RandomForestClassifier(criterion='entropy', n_estimators=10, random_state=0)"
            ]
          },
          "metadata": {},
          "execution_count": 29
        }
      ]
    },
    {
      "cell_type": "code",
      "source": [
        "y_pred=classifier.predict(x_test)"
      ],
      "metadata": {
        "id": "p46Pv1PGRIbf"
      },
      "execution_count": 31,
      "outputs": []
    },
    {
      "cell_type": "code",
      "source": [
        "from sklearn.metrics import accuracy_score,confusion_matrix, classification_report\n",
        "accuracy_score(y_test, y_pred)"
      ],
      "metadata": {
        "colab": {
          "base_uri": "https://localhost:8080/"
        },
        "id": "1q_NkFXCRk-H",
        "outputId": "9d77ae1b-0ed2-42e7-b25c-8bb9a8526c7d"
      },
      "execution_count": 33,
      "outputs": [
        {
          "output_type": "execute_result",
          "data": {
            "text/plain": [
              "0.93"
            ]
          },
          "metadata": {},
          "execution_count": 33
        }
      ]
    },
    {
      "cell_type": "code",
      "source": [
        "confusion_matrix(y_test,y_pred)"
      ],
      "metadata": {
        "colab": {
          "base_uri": "https://localhost:8080/"
        },
        "id": "4happOMTR_MJ",
        "outputId": "a9d46340-22d4-4cde-a5ae-fd10bbb0f6fd"
      },
      "execution_count": 35,
      "outputs": [
        {
          "output_type": "execute_result",
          "data": {
            "text/plain": [
              "array([[64,  4],\n",
              "       [ 3, 29]])"
            ]
          },
          "metadata": {},
          "execution_count": 35
        }
      ]
    },
    {
      "cell_type": "code",
      "source": [
        "z=classification_report(y_test,y_pred)\n",
        "print(z)"
      ],
      "metadata": {
        "colab": {
          "base_uri": "https://localhost:8080/"
        },
        "id": "vaAKKtVOSKc4",
        "outputId": "690ae9c0-1365-4950-867f-47a571dd76e1"
      },
      "execution_count": 37,
      "outputs": [
        {
          "output_type": "stream",
          "name": "stdout",
          "text": [
            "              precision    recall  f1-score   support\n",
            "\n",
            "           0       0.96      0.94      0.95        68\n",
            "           1       0.88      0.91      0.89        32\n",
            "\n",
            "    accuracy                           0.93       100\n",
            "   macro avg       0.92      0.92      0.92       100\n",
            "weighted avg       0.93      0.93      0.93       100\n",
            "\n"
          ]
        }
      ]
    },
    {
      "cell_type": "code",
      "source": [
        "classifier.get_params()"
      ],
      "metadata": {
        "colab": {
          "base_uri": "https://localhost:8080/"
        },
        "id": "Yz8ts4grSSZr",
        "outputId": "a6fe0ddc-6076-45c6-9d14-1985aa2a3a2b"
      },
      "execution_count": 39,
      "outputs": [
        {
          "output_type": "execute_result",
          "data": {
            "text/plain": [
              "{'bootstrap': True,\n",
              " 'ccp_alpha': 0.0,\n",
              " 'class_weight': None,\n",
              " 'criterion': 'entropy',\n",
              " 'max_depth': None,\n",
              " 'max_features': 'auto',\n",
              " 'max_leaf_nodes': None,\n",
              " 'max_samples': None,\n",
              " 'min_impurity_decrease': 0.0,\n",
              " 'min_samples_leaf': 1,\n",
              " 'min_samples_split': 2,\n",
              " 'min_weight_fraction_leaf': 0.0,\n",
              " 'n_estimators': 10,\n",
              " 'n_jobs': None,\n",
              " 'oob_score': False,\n",
              " 'random_state': 0,\n",
              " 'verbose': 0,\n",
              " 'warm_start': False}"
            ]
          },
          "metadata": {},
          "execution_count": 39
        }
      ]
    },
    {
      "cell_type": "code",
      "source": [
        "from sklearn.metrics import roc_curve\n",
        "from sklearn.metrics import roc_auc_score"
      ],
      "metadata": {
        "id": "kUAKk5qlSX2a"
      },
      "execution_count": 42,
      "outputs": []
    },
    {
      "cell_type": "code",
      "source": [
        "y_proba=classifier.predict_proba(x_test)\n",
        "y_predicted=y_proba[:,1]\n",
        "print(y_predicted)"
      ],
      "metadata": {
        "colab": {
          "base_uri": "https://localhost:8080/"
        },
        "id": "EUoMdG2sShpK",
        "outputId": "6e8439bb-31ce-48ab-e43c-05e43dd6abca"
      },
      "execution_count": 44,
      "outputs": [
        {
          "output_type": "stream",
          "name": "stdout",
          "text": [
            "[0.2 0.  0.  0.  0.  0.  0.  1.  0.  0.8 0.  0.  0.2 0.2 0.  0.6 0.4 0.\n",
            " 0.9 0.1 0.  1.  0.  1.  0.  1.  0.2 0.  0.  0.2 0.2 0.  1.  0.  0.  0.\n",
            " 0.  0.  0.  1.  0.1 0.  0.  0.  0.7 0.  0.3 0.8 0.1 0.8 1.  0.  0.  0.8\n",
            " 1.  0.8 0.  0.  0.9 0.  0.  0.8 0.  1.  0.  0.9 0.1 0.  0.  0.2 1.  0.\n",
            " 0.1 0.8 0.1 0.  0.  0.  1.  0.7 0.9 1.  0.  0.  1.  0.1 0.1 0.9 0.7 0.\n",
            " 0.1 0.9 0.  0.1 0.  0.5 0.1 0.8 0.9 1. ]\n"
          ]
        }
      ]
    },
    {
      "cell_type": "code",
      "source": [
        "fpr,tpr,thresholds=roc_curve(y_test,y_predicted)"
      ],
      "metadata": {
        "id": "eNRUlhQyS1Q6"
      },
      "execution_count": 46,
      "outputs": []
    },
    {
      "cell_type": "code",
      "source": [
        "from sklearn.metrics import auc\n",
        "roc_auc=auc(fpr,tpr)\n",
        "print(roc_auc)"
      ],
      "metadata": {
        "colab": {
          "base_uri": "https://localhost:8080/"
        },
        "id": "zLtju456S611",
        "outputId": "9c10384f-ce67-487b-da03-9c1734ee69a8"
      },
      "execution_count": 49,
      "outputs": [
        {
          "output_type": "stream",
          "name": "stdout",
          "text": [
            "0.953125\n"
          ]
        }
      ]
    },
    {
      "cell_type": "code",
      "source": [
        "import matplotlib.pyplot as plt\n",
        "plt.figure()\n",
        "plt.plot(fpr,tpr,color='orange', lw=2,label='ROC curve(area under curve=%0.2f)' %roc_auc)\n",
        "plt.plot([0,1],[0,1],color='blue',lw=2,linestyle='--')\n",
        "plt.xlim([0.0,1.0])\n",
        "plt.ylim([0.0,0.1])\n",
        "plt.xlabel(\"False positive rate(1-Specificity)\")\n",
        "plt.ylabel(\"True\")"
      ],
      "metadata": {
        "colab": {
          "base_uri": "https://localhost:8080/",
          "height": 300
        },
        "id": "eJIY1SZlTHGi",
        "outputId": "7f30fbb9-8ca4-4445-979b-d1b35d9fce56"
      },
      "execution_count": 57,
      "outputs": [
        {
          "output_type": "execute_result",
          "data": {
            "text/plain": [
              "Text(0, 0.5, 'True')"
            ]
          },
          "metadata": {},
          "execution_count": 57
        },
        {
          "output_type": "display_data",
          "data": {
            "text/plain": [
              "<Figure size 432x288 with 1 Axes>"
            ],
            "image/png": "[encoded data removed]"
          },
          "metadata": {
            "needs_background": "light"
          }
        }
      ]
    }
  ]
}